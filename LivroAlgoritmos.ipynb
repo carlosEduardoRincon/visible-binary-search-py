{
  "nbformat": 4,
  "nbformat_minor": 0,
  "metadata": {
    "colab": {
      "provenance": [],
      "authorship_tag": "ABX9TyNDwJsHqgD41sWZQwbHY43H",
      "include_colab_link": true
    },
    "kernelspec": {
      "name": "python3",
      "display_name": "Python 3"
    },
    "language_info": {
      "name": "python"
    }
  },
  "cells": [
    {
      "cell_type": "markdown",
      "metadata": {
        "id": "view-in-github",
        "colab_type": "text"
      },
      "source": [
        "<a href=\"https://colab.research.google.com/github/carlosEduardoRincon/visible-binary-search-py/blob/main/LivroAlgoritmos.ipynb\" target=\"_parent\"><img src=\"https://colab.research.google.com/assets/colab-badge.svg\" alt=\"Open In Colab\"/></a>"
      ]
    },
    {
      "cell_type": "code",
      "source": [
        "def pesquisa_binaria_iterativa (lista, item):\n",
        "  baixo = 0\n",
        "  alto = len(lista) - 1\n",
        "\n",
        "  while baixo <= alto:\n",
        "    meio = (baixo + alto) // 2\n",
        "    chute = lista[meio]\n",
        "\n",
        "    print('--------PBI---------')\n",
        "    print('alto: ' + str(alto))\n",
        "    print('meio: ' + str(meio))\n",
        "    print('baixo: ' + str(baixo))\n",
        "    print('chute: ' + str(chute))\n",
        "    print('item: ' + str(item))\n",
        "\n",
        "    if chute == item:\n",
        "      return '(PBI) Seu número está na posição: ' + str(meio)\n",
        "    if chute < item:\n",
        "      baixo = meio + 1\n",
        "    else:\n",
        "      alto = meio - 1\n",
        "  return None;"
      ],
      "metadata": {
        "id": "ipW_zZUgqBLO"
      },
      "execution_count": 61,
      "outputs": []
    },
    {
      "cell_type": "code",
      "source": [
        "def pesquisa_binaria_recursiva (lista, item, baixo, alto):\n",
        "  if baixo > alto:\n",
        "   return None;\n",
        "\n",
        "  meio = (baixo + alto) // 2\n",
        "  chute = lista[meio]\n",
        "\n",
        "  print('--------PBR---------')\n",
        "  print('alto: ' + str(alto))\n",
        "  print('meio: ' + str(meio))\n",
        "  print('baixo: ' + str(baixo))\n",
        "  print('chute: ' + str(chute))\n",
        "  print('item: ' + str(item))\n",
        "\n",
        "  if chute < item:\n",
        "    meio += 1;\n",
        "  elif chute > item:\n",
        "    alto = meio - 1;\n",
        "    meio = baixo;\n",
        "  else:\n",
        "    return '(PBR) Seu número está na posição: ' + str(meio)\n",
        "\n",
        "  return pesquisa_binaria_recursiva(lista, item, meio, alto)\n",
        ""
      ],
      "metadata": {
        "id": "9U9ruRNlvvSd"
      },
      "execution_count": 63,
      "outputs": []
    },
    {
      "cell_type": "code",
      "execution_count": 64,
      "metadata": {
        "id": "3stjMPPilxmX",
        "colab": {
          "base_uri": "https://localhost:8080/"
        },
        "outputId": "d38641eb-295c-4c0c-963f-a3218f3dbe4a"
      },
      "outputs": [
        {
          "output_type": "stream",
          "name": "stdout",
          "text": [
            "--------PBI---------\n",
            "alto: 7\n",
            "meio: 3\n",
            "baixo: 0\n",
            "chute: 30\n",
            "item: 69\n",
            "--------PBI---------\n",
            "alto: 7\n",
            "meio: 5\n",
            "baixo: 4\n",
            "chute: 53\n",
            "item: 69\n",
            "--------PBI---------\n",
            "alto: 7\n",
            "meio: 6\n",
            "baixo: 6\n",
            "chute: 69\n",
            "item: 69\n",
            "--------PBR---------\n",
            "alto: 7\n",
            "meio: 3\n",
            "baixo: 0\n",
            "chute: 30\n",
            "item: 69\n",
            "--------PBR---------\n",
            "alto: 7\n",
            "meio: 5\n",
            "baixo: 4\n",
            "chute: 53\n",
            "item: 69\n",
            "--------PBR---------\n",
            "alto: 7\n",
            "meio: 6\n",
            "baixo: 6\n",
            "chute: 69\n",
            "item: 69\n",
            "Seu número está na posição: 6\n",
            "Seu número está na posição: 6\n"
          ]
        }
      ],
      "source": [
        "lista = [1,5,15,30,50,53,69,101]\n",
        "item = 69\n",
        "\n",
        "\n",
        "result_iterative = pesquisa_binaria_iterativa(lista, item)\n",
        "result_recursive = pesquisa_binaria_recursiva(lista, item, 0, len(lista) - 1)\n",
        "print(result_iterative)\n",
        "print(result_recursive)"
      ]
    }
  ]
}